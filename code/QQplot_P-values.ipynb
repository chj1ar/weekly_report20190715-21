{
 "cells": [
  {
   "cell_type": "code",
   "execution_count": 5,
   "metadata": {},
   "outputs": [],
   "source": [
    "import pandas as pd\n",
    "summary_statistics = pd.read_table('Summary_statistics.gz', sep='\\t')\n",
    "import scipy.stats\n",
    "summary_statistics['P'] = summary_statistics['z'].apply(lambda z: 2 * scipy.stats.norm.sf(abs(z)))"
   ]
  },
  {
   "cell_type": "code",
   "execution_count": 33,
   "metadata": {},
   "outputs": [],
   "source": [
    "import os\n",
    "# os.chdir('DAPG/')\n",
    "Brain_files = [f for f in os.listdir('.') if 'Brain' in f]\n",
    "Brain_merge50 = pd.DataFrame(columns=['chr', 'bp', 'ref', 'alt'])\n",
    "Brain_merge20 = pd.DataFrame(columns=['chr', 'bp', 'ref', 'alt'])\n",
    "Brain_merge0 = pd.DataFrame(columns=['chr', 'bp', 'ref', 'alt'])\n",
    "for f in Brain_files:\n",
    "    Brain_PIP50 = pd.read_table(f, sep='\\t')\n",
    "    Brain_PIP50['chr'] = Brain_PIP50['variant_id'].apply(lambda x: x.split('_')[0])\n",
    "    Brain_PIP50['bp'] = Brain_PIP50['variant_id'].apply(lambda x: int(x.split('_')[1]))\n",
    "    Brain_PIP50['ref'] = Brain_PIP50['variant_id'].apply(lambda x: x.split('_')[2])\n",
    "    Brain_PIP50['alt'] = Brain_PIP50['variant_id'].apply(lambda x: x.split('_')[3])\n",
    "    Brain_PIP50 = Brain_PIP50[Brain_PIP50['pip'] > 0.5][['chr', 'bp', 'ref', 'alt']] # select SNPs with PIP > 0.5 in at least one brain tissue (to see the distribution of their p-values)\n",
    "    Brain_merge50 = pd.merge(Brain_merge50, Brain_PIP50, on=['chr', 'bp', 'ref', 'alt'], how='outer')\n",
    "    \n",
    "for f in Brain_files:\n",
    "    Brain_PIP20 = pd.read_table(f, sep='\\t')\n",
    "    Brain_PIP20['chr'] = Brain_PIP20['variant_id'].apply(lambda x: x.split('_')[0])\n",
    "    Brain_PIP20['bp'] = Brain_PIP20['variant_id'].apply(lambda x: int(x.split('_')[1]))\n",
    "    Brain_PIP20['ref'] = Brain_PIP20['variant_id'].apply(lambda x: x.split('_')[2])\n",
    "    Brain_PIP20['alt'] = Brain_PIP20['variant_id'].apply(lambda x: x.split('_')[3])\n",
    "    Brain_PIP20 = Brain_PIP20[Brain_PIP20['pip'] > 0.2][['chr', 'bp', 'ref', 'alt']] # select SNPs with PIP > 0.2 in at least one brain tissue (to see the distribution of their p-values)\n",
    "    Brain_merge20 = pd.merge(Brain_merge20, Brain_PIP20, on=['chr', 'bp', 'ref', 'alt'], how='outer')\n",
    "\n",
    "for f in Brain_files:\n",
    "    Brain_PIP0 = pd.read_table(f, sep='\\t')\n",
    "    Brain_PIP0['chr'] = Brain_PIP0['variant_id'].apply(lambda x: x.split('_')[0])\n",
    "    Brain_PIP0['bp'] = Brain_PIP0['variant_id'].apply(lambda x: int(x.split('_')[1]))\n",
    "    Brain_PIP0['ref'] = Brain_PIP0['variant_id'].apply(lambda x: x.split('_')[2])\n",
    "    Brain_PIP0['alt'] = Brain_PIP0['variant_id'].apply(lambda x: x.split('_')[3])\n",
    "    Brain_PIP0 = Brain_PIP0[Brain_PIP0['pip'] > 0.0][['chr', 'bp', 'ref', 'alt']] # select SNPs with PIP > 0.2 in at least one brain tissue (to see the distribution of their p-values)\n",
    "    Brain_merge0 = pd.merge(Brain_merge0, Brain_PIP0, on=['chr', 'bp', 'ref', 'alt'], how='outer')\n",
    "    \n",
    "Brain_merge50.drop_duplicates(subset=['chr', 'bp', 'ref', 'alt'], keep='first', inplace=True)\n",
    "Brain_merge20.drop_duplicates(subset=['chr', 'bp', 'ref', 'alt'], keep='first', inplace=True)\n",
    "Brain_merge0.drop_duplicates(subset=['chr', 'bp', 'ref', 'alt'], keep='first', inplace=True)\n",
    "SNPs_Brain50 = pd.merge(summary_statistics, Brain_merge50, on=['chr', 'bp'], how='inner') # obtain the P-values of the brain eQTL SNPs\n",
    "SNPs_Brain20 = pd.merge(summary_statistics, Brain_merge20, on=['chr', 'bp'], how='inner')\n",
    "SNPs_Brain0 = pd.merge(summary_statistics, Brain_merge0, on=['chr', 'bp'], how='inner')\n",
    "P_values_Brain50 = SNPs_Brain50['P']\n",
    "P_values_Brain20 = SNPs_Brain20['P']\n",
    "P_values_Brain0 = SNPs_Brain0['P']\n",
    "P_values_full = summary_statistics['P']\n",
    "# import matplotlib.pyplot as plt\n",
    "# plt.hist(P_values_Brain, bins=30)\n",
    "# plt.xlabel('P-values')\n",
    "# plt.ylabel('Frequency')\n",
    "# plt.title('Brain')\n",
    "# plt.show()\n",
    "import statsmodels.api as sm\n",
    "import numpy as np\n",
    "import math\n",
    "# sm.qqplot_2samples(data1=np.array([-math.log10(x) for x in P_values_Brain50]), data2=np.array([-math.log10(x) for x in np.random.uniform(size=len(P_values_Brain50))]), xlabel='Expected -log10(GWAS P-value)', ylabel='Observed -log10(GWAS P-value)', line='45')\n",
    "# sm.qqplot_2samples(data1=np.array([-math.log10(x) for x in P_values_Brain20]), data2=np.array([-math.log10(x) for x in np.random.uniform(size=len(P_values_Brain20))]), xlabel='Expected -log10(GWAS P-value)', ylabel='Observed -log10(GWAS P-value)', line='45')\n",
    "# sm.qqplot_2samples(data1=np.array([-math.log10(x) for x in P_values_full]), data2=np.array([-math.log10(x) for x in np.random.uniform(size=len(P_values_full))]), xlabel='Expected -log10(GWAS P-value)', ylabel='Observed -log10(GWAS P-value)', line='45')\n"
   ]
  },
  {
   "cell_type": "code",
   "execution_count": 38,
   "metadata": {},
   "outputs": [
    {
     "data": {
      "text/plain": [
       "137    1.722001e-11\n",
       "140    3.409006e-13\n",
       "142    3.907993e-13\n",
       "147    2.720990e-14\n",
       "Name: P, dtype: float64"
      ]
     },
     "execution_count": 38,
     "metadata": {},
     "output_type": "execute_result"
    }
   ],
   "source": [
    "P_values_Brain0[P_values_Brain0 < 1e-5]"
   ]
  },
  {
   "cell_type": "code",
   "execution_count": 34,
   "metadata": {},
   "outputs": [],
   "source": [
    "import matplotlib.lines as mlines"
   ]
  },
  {
   "cell_type": "code",
   "execution_count": 64,
   "metadata": {},
   "outputs": [
    {
     "data": {
      "text/plain": [
       "36.0"
      ]
     },
     "execution_count": 64,
     "metadata": {},
     "output_type": "execute_result"
    }
   ],
   "source": [
    "import matplotlib\n",
    "import matplotlib.pyplot as plt\n",
    "plt.rcParams['lines.markersize'] ** 2"
   ]
  },
  {
   "cell_type": "code",
   "execution_count": 67,
   "metadata": {
    "scrolled": true
   },
   "outputs": [
    {
     "data": {
      "image/png": "[encoded data removed]",
      "text/plain": [
       "<Figure size 432x288 with 1 Axes>"
      ]
     },
     "metadata": {},
     "output_type": "display_data"
    }
   ],
   "source": [
    "samp50_pct_x = np.array([-math.log10((i + 0.5) / len(P_values_Brain50)) for i in reversed(list(range(len(P_values_Brain50))))])\n",
    "samp50_pct_y = np.array(sorted([-math.log10(x) for x in P_values_Brain50]))\n",
    "\n",
    "samp20_pct_x = np.array([-math.log10((i + 0.5) / len(P_values_Brain20)) for i in reversed(list(range(len(P_values_Brain20))))])\n",
    "samp20_pct_y = np.array(sorted([-math.log10(x) for x in P_values_Brain20]))\n",
    "\n",
    "samp0_pct_x = np.array([-math.log10((i + 0.5) / len(P_values_Brain0)) for i in reversed(list(range(len(P_values_Brain0))))])\n",
    "samp0_pct_y = np.array(sorted([-math.log10(x) for x in P_values_Brain0]))\n",
    "\n",
    "samp_pct_x = np.array([-math.log10((i + 0.5) / len(P_values_full)) for i in reversed(list(range(len(P_values_full))))])\n",
    "samp_pct_y = np.array(sorted([-math.log10(x) for x in P_values_full])) # the bug is because there are 0s in P_values_full. Probably the solution is to improve the precision of decimals to avoid 0s!\n",
    "\n",
    "# QQ plot\n",
    "import matplotlib.pyplot as plt\n",
    "fig, ax = plt.subplots()\n",
    "# P50 = ax.scatter(x=samp50_pct_x, y=samp50_pct_y, c='orange')\n",
    "P20 = ax.scatter(x=samp20_pct_x, y=samp20_pct_y, c='blue', s=.2)\n",
    "# P0 = ax.scatter(x=samp0_pct_x, y=samp0_pct_y, c='grey')\n",
    "P = ax.scatter(x=samp_pct_x, y=samp_pct_y, c='black', s=.2, alpha=0.1)\n",
    "line = mlines.Line2D(xdata=[0, 7], ydata=[0, 7], color='red')\n",
    "ax.add_line(line)\n",
    "ax.legend((P20, P), ('P20', 'full GWAS'), loc='upper left')\n",
    "plt.xlabel('Expected -log10(GWAS P-values)')\n",
    "plt.ylabel('Observed -log10(GWAS P-values)')\n",
    "plt.show()\n"
   ]
  },
  {
   "cell_type": "code",
   "execution_count": 57,
   "metadata": {},
   "outputs": [
    {
     "data": {
      "image/png": "[encoded data removed]",
      "text/plain": [
       "<Figure size 432x288 with 1 Axes>"
      ]
     },
     "metadata": {},
     "output_type": "display_data"
    }
   ],
   "source": [
    "fig, ax = plt.subplots()\n",
    "P50 = ax.scatter(x=samp50_pct_x, y=samp50_pct_y, c='orange')\n",
    "P20 = ax.scatter(x=samp20_pct_x, y=samp20_pct_y, c='blue', alpha=0.5)\n",
    "P0 = ax.scatter(x=samp0_pct_x, y=samp0_pct_y, c='grey', alpha=0.3)\n",
    "line = mlines.Line2D(xdata=[0, 7], ydata=[0, 7], color='red')\n",
    "ax.add_line(line)\n",
    "ax.legend((P50, P20, P0), ('P50', 'P20', 'P0'), loc='upper left')\n",
    "plt.xlabel('Expected -log10(GWAS P-values)')\n",
    "plt.ylabel('Observed -log10(GWAS P-values)')\n",
    "plt.show()\n"
   ]
  },
  {
   "cell_type": "code",
   "execution_count": null,
   "metadata": {},
   "outputs": [],
   "source": []
  }
 ],
 "metadata": {
  "kernelspec": {
   "display_name": "Python 3",
   "language": "python",
   "name": "python3"
  },
  "language_info": {
   "codemirror_mode": {
    "name": "ipython",
    "version": 3
   },
   "file_extension": ".py",
   "mimetype": "text/x-python",
   "name": "python",
   "nbconvert_exporter": "python",
   "pygments_lexer": "ipython3",
   "version": "3.6.8"
  },
  "toc": {
   "base_numbering": 1,
   "nav_menu": {},
   "number_sections": true,
   "sideBar": true,
   "skip_h1_title": false,
   "title_cell": "Table of Contents",
   "title_sidebar": "Contents",
   "toc_cell": false,
   "toc_position": {},
   "toc_section_display": true,
   "toc_window_display": false
  }
 },
 "nbformat": 4,
 "nbformat_minor": 2
}
